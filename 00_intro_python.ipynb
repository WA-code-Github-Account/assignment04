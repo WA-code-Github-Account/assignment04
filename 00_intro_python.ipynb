{
  "nbformat": 4,
  "nbformat_minor": 0,
  "metadata": {
    "colab": {
      "provenance": [],
      "authorship_tag": "ABX9TyP8XgzpX28IPfwby5a92VQJ",
      "include_colab_link": true
    },
    "kernelspec": {
      "name": "python3",
      "display_name": "Python 3"
    },
    "language_info": {
      "name": "python"
    }
  },
  "cells": [
    {
      "cell_type": "markdown",
      "metadata": {
        "id": "view-in-github",
        "colab_type": "text"
      },
      "source": [
        "<a href=\"https://colab.research.google.com/github/WA-code-Github-Account/assiment04/blob/main/00_intro_python.ipynb\" target=\"_parent\"><img src=\"https://colab.research.google.com/assets/colab-badge.svg\" alt=\"Open In Colab\"/></a>"
      ]
    },
    {
      "cell_type": "code",
      "execution_count": null,
      "metadata": {
        "id": "BEp5whfojZCV",
        "colab": {
          "base_uri": "https://localhost:8080/"
        },
        "outputId": "765b756a-6573-4b04-8a8f-0cccbd7e776a"
      },
      "outputs": [
        {
          "output_type": "stream",
          "name": "stdout",
          "text": [
            "01_add_two_numbers\n",
            "This application for add two number\n",
            "Enter your first number3\n",
            "Enter your second number99\n",
            "The total number sum of 3 and 99 is 102\n"
          ]
        }
      ],
      "source": [
        "print(\"01_add_two_numbers\")\n",
        "\n",
        "def add():\n",
        "  print(\"This application for add two number\")\n",
        "  first_number=input(\"Enter your first number\")\n",
        "  second_number=input(\"Enter your second number\")\n",
        "  total=int(first_number)+int(second_number)\n",
        "  print(f\"The total number sum of {first_number} and {second_number} is {total}\")\n",
        "\n",
        "if __name__==\"__main__\":\n",
        "  add()\n",
        "\n",
        "\n"
      ]
    },
    {
      "cell_type": "code",
      "source": [
        "print(\"02_agreement_bot\")\n",
        "def bot():\n",
        "     animal = str(input(\"What is your favorite animal?\"))\n",
        "     print(f\"My favorite animal is also  {animal}!\")\n",
        "\n",
        "if __name__ == '__main__':\n",
        "   bot()"
      ],
      "metadata": {
        "colab": {
          "base_uri": "https://localhost:8080/"
        },
        "id": "X-xtDzGgkJAR",
        "outputId": "eb9f1ace-50ec-4794-fd57-2dad813289bd"
      },
      "execution_count": null,
      "outputs": [
        {
          "output_type": "stream",
          "name": "stdout",
          "text": [
            "02_agreement_bot\n",
            "What is your favorite animal?cat\n",
            "My favorite animal is also  cat!\n"
          ]
        }
      ]
    },
    {
      "cell_type": "code",
      "source": [
        "print(\"03_fahrenheit_to_celsius\")\n",
        "def temp():\n",
        "  print(\"This application for convert fahrenheit to celsius\")\n",
        "  fahrenheit_degree = float(input(\"Enter the temperature in Fahrenheit degree:\"))\n",
        "  celsius = (fahrenheit_degree - 32) * 5/9\n",
        "  print(f\"Temperature {fahrenheit_degree}f = {celsius:.2f}c.\")\n",
        "if __name__ == '__main__':\n",
        "    temp()"
      ],
      "metadata": {
        "id": "8wOopdxzyPdN",
        "colab": {
          "base_uri": "https://localhost:8080/"
        },
        "outputId": "4a8abedd-0459-4575-a18f-5b6b116e5899"
      },
      "execution_count": null,
      "outputs": [
        {
          "output_type": "stream",
          "name": "stdout",
          "text": [
            "03_fahrenheit_to_celsius\n",
            "This application for convert fahrenheit to celsius\n",
            "Enter the temperature in Fahrenheit degree:33\n",
            "Temperature 33.0f = 0.56c.\n"
          ]
        }
      ]
    },
    {
      "cell_type": "code",
      "source": [
        "print(\"04_how_old_are_they\")\n",
        "def add_ages():\n",
        "  anthon:int = 21\n",
        "  beth:int = anthon + 6\n",
        "  chen:int = beth + 20\n",
        "  drew:int = chen + anthon\n",
        "  enthan:int = chen\n",
        "  print(\"Anthon is \"+ str(anthon))\n",
        "  print(\"Beth is \" + str(beth))\n",
        "  print(\"Chen is \"+ str(chen))\n",
        "  print(\"Drew is \" + str(drew))\n",
        "  print(\"Enthan is \" + str(enthan))\n",
        "\n",
        "if __name__ == '__main__':\n",
        "    add_ages()"
      ],
      "metadata": {
        "id": "BqmJeIDWnfCe",
        "colab": {
          "base_uri": "https://localhost:8080/"
        },
        "outputId": "7a50adde-863a-4b99-b701-a93416b4a86b"
      },
      "execution_count": 3,
      "outputs": [
        {
          "output_type": "stream",
          "name": "stdout",
          "text": [
            "04_how_old_are_they\n",
            "Anthon is 21\n",
            "Beth is 27\n",
            "Chen is 47\n",
            "Drew is 68\n",
            "Enthan is 47\n"
          ]
        }
      ]
    },
    {
      "cell_type": "code",
      "source": [
        "print(\"05_triangle_perimeter\")\n",
        "def triangle():\n",
        "  print(\"This application for calculate triangle perimeter\")\n",
        "  side1:float = float(input(\"Enter the first side of triangle:\"))\n",
        "  side2:float = float(input(\"Enter the second side of triangle:\"))\n",
        "  side3:float = float(input(\"Enter the third side of triangle:\"))\n",
        "  perimeter:float = side1 + side2 + side3\n",
        "  print(f\"The perimeter of triangle is {perimeter}\")\n",
        "if __name__ == '__main__':\n",
        "    triangle()"
      ],
      "metadata": {
        "colab": {
          "base_uri": "https://localhost:8080/"
        },
        "id": "gmtsJeU1y7N5",
        "outputId": "dfb82165-30ec-4501-d931-12b7c9eaab97"
      },
      "execution_count": 4,
      "outputs": [
        {
          "output_type": "stream",
          "name": "stdout",
          "text": [
            "05_triangle_perimeter\n",
            "This application for calculate triangle perimeter\n",
            "Enter the first side of triangle:3\n",
            "Enter the second side of triangle:5\n",
            "Enter the third side of triangle:6\n",
            "The perimeter of triangle is 14.0\n"
          ]
        }
      ]
    },
    {
      "cell_type": "code",
      "source": [
        "print(\"06_square_number\")\n",
        "def square():\n",
        "  print(\"This code is about square of given numbers\")\n",
        "  num1:int = int(input(\"Enter your first number:\"))\n",
        "  num2:int = int(input(\"Enter your second number:\"))\n",
        "  print(f\"The square of {num1} is {num1**2}\")\n",
        "  print(f\"The square of {num2} is {num2**2}\")\n",
        "  print(f\"The sum of square of {num1} and {num2} is {num1**2 + num2**2}\")\n",
        "if __name__ == '__main__':\n",
        "    square()"
      ],
      "metadata": {
        "colab": {
          "base_uri": "https://localhost:8080/"
        },
        "id": "HFI-1ud62r6H",
        "outputId": "645e16a8-ef62-4a1b-e3ca-2150fdbe5a8b"
      },
      "execution_count": 5,
      "outputs": [
        {
          "output_type": "stream",
          "name": "stdout",
          "text": [
            "06_square_number\n",
            "This code is about squareof given number\n",
            "Enter your first number:3\n",
            "Enter your second number:2\n",
            "The square of 3 is 9\n",
            "The square of 2 is 4\n",
            "The sum of square of 3 and 2 is 13\n"
          ]
        }
      ]
    }
  ]
}
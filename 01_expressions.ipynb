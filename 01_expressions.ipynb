{
  "nbformat": 4,
  "nbformat_minor": 0,
  "metadata": {
    "colab": {
      "provenance": [],
      "authorship_tag": "ABX9TyPkNlyOJ2UDHogOukRyYlXS",
      "include_colab_link": true
    },
    "kernelspec": {
      "name": "python3",
      "display_name": "Python 3"
    },
    "language_info": {
      "name": "python"
    }
  },
  "cells": [
    {
      "cell_type": "markdown",
      "metadata": {
        "id": "view-in-github",
        "colab_type": "text"
      },
      "source": [
        "<a href=\"https://colab.research.google.com/github/WA-code-Github-Account/assignment04/blob/main/01_expressions.ipynb\" target=\"_parent\"><img src=\"https://colab.research.google.com/assets/colab-badge.svg\" alt=\"Open In Colab\"/></a>"
      ]
    },
    {
      "cell_type": "code",
      "execution_count": null,
      "metadata": {
        "colab": {
          "base_uri": "https://localhost:8080/"
        },
        "id": "6e7ADzneD6lT",
        "outputId": "1d93e477-98d5-469b-9646-0eaa6b1ef5a1"
      },
      "outputs": [
        {
          "output_type": "stream",
          "name": "stdout",
          "text": [
            "01_dicesimulator\n",
            "die1 in main() start as:10\n",
            "Total of Two dies: 8\n",
            "Total of Two dies: 4\n",
            "Total of Two dies: 4\n",
            "die1 in main() end as:10\n"
          ]
        }
      ],
      "source": [
        "import random\n",
        "print(\"01_dicesimulator\")\n",
        "\n",
        "def roll_dice():\n",
        "  die1:int = random.randint(1,6)\n",
        "  die2:int = random.randint(1,6)\n",
        "  total:int = die1+die2\n",
        "\n",
        "  print(f\"Total of Two dies: {total}\")\n",
        "\n",
        "def main():\n",
        "  die1:int = 10\n",
        "  print(\"die1 in main() start as:\"+ str (die1))\n",
        "  roll_dice()\n",
        "  roll_dice()\n",
        "  roll_dice()\n",
        "  print(\"die1 in main() end as:\"+ str (die1))\n",
        "\n",
        "if __name__ == \"__main__\":\n",
        "  main()\n",
        "\n",
        "\n"
      ]
    },
    {
      "cell_type": "code",
      "source": [
        "print(\"02_e=mc2\")\n",
        "\n",
        "def energy():\n",
        "\n",
        "  c:float = 299792458\n",
        "  m:float = float(input(\"Enter mass in kg:\"))\n",
        "  print(\"e = m * C^2\")\n",
        "  print(\"Mass = \" + str(m) + \"kg\")\n",
        "  print(\"c = \" + str(c) + \"m/s\")\n",
        "  print(\"e = \" + str(m * c ** 2) + \"jules\")\n",
        "\n",
        "if __name__ == \"__main__\":\n",
        "  energy()\n"
      ],
      "metadata": {
        "id": "BA3NMcNzOG4p",
        "colab": {
          "base_uri": "https://localhost:8080/"
        },
        "outputId": "f7cea30b-af2e-4249-b7f9-8404f152cc23"
      },
      "execution_count": 4,
      "outputs": [
        {
          "output_type": "stream",
          "name": "stdout",
          "text": [
            "02_e=mc2\n",
            "Enter mass in kg:5\n",
            "e = m * C^2\n",
            "Mass = 5.0kg\n",
            "c = 299792458m/s\n",
            "e = 4.493775893684088e+17jules\n"
          ]
        }
      ]
    },
    {
      "cell_type": "code",
      "source": [
        "print(\"03_feet_to_inches\")\n",
        "inches_per_foot:int = 12\n",
        "\n",
        "def foot():\n",
        "  feet:int = int(input(\"Enter feet for converting:\"))\n",
        "  print(f\"There are {feet * inches_per_foot} inches in {feet} feet.\")\n",
        "\n",
        "if __name__ == \"__main__\":\n",
        "  foot()\n"
      ],
      "metadata": {
        "colab": {
          "base_uri": "https://localhost:8080/"
        },
        "id": "MiODyBuDbTL5",
        "outputId": "02094bae-5ec8-4714-9b30-52ac113c4c3f"
      },
      "execution_count": 5,
      "outputs": [
        {
          "output_type": "stream",
          "name": "stdout",
          "text": [
            "03_feet_to_inches\n",
            "Enter feet for converting:10\n",
            "There are 120 inches in 10 feet.\n"
          ]
        }
      ]
    },
    {
      "cell_type": "code",
      "source": [
        "import math\n",
        "\n",
        "print(\"04_pythagorean_theorem\")\n",
        "\n",
        "def pythagorean():\n",
        "  ab:float = float(input(\"Enter the length of side ab:\"))\n",
        "  ac:float = float(input(\"Enter the length of side ac:\"))\n",
        "  bc:float = math.sqrt(ab**2 + ac**2)\n",
        "  print(f\"The length of side bc (the hypothenuse is : {bc})\")\n",
        "\n",
        "if __name__ == \"__main__\":\n",
        "  pythagorean()"
      ],
      "metadata": {
        "colab": {
          "base_uri": "https://localhost:8080/"
        },
        "id": "HYt_e6Wfdpww",
        "outputId": "f8a518fb-7e72-4ae4-87e8-779e99e6a386"
      },
      "execution_count": 9,
      "outputs": [
        {
          "output_type": "stream",
          "name": "stdout",
          "text": [
            "04_pythagorean_theorem\n",
            "Enter the length of side ab:4.9\n",
            "Enter the length of side ac:5.8\n",
            "The length of side bc (the hypothenuse is : 7.592759709091287)\n"
          ]
        }
      ]
    },
    {
      "cell_type": "code",
      "source": [
        "print(\"05_remainder_division\")\n",
        "\n",
        "def reminder():\n",
        "  dividend:int = int(input(\"Enter the dividend:\"))\n",
        "  divisor:int = int(input(\"Enter the divisor:\"))\n",
        "  quotient:int = dividend // divisor\n",
        "  remainder:int = dividend % divisor\n",
        "  print(f\"{dividend} divided by {divisor} is {quotient} with a remainder of {remainder}.\")\n",
        "\n",
        "if __name__ == \"__main__\":\n",
        "  reminder()"
      ],
      "metadata": {
        "colab": {
          "base_uri": "https://localhost:8080/"
        },
        "id": "uKrx1bwSfhvq",
        "outputId": "5ced0fdd-884f-4765-e2c5-16f39a3cb23c"
      },
      "execution_count": 11,
      "outputs": [
        {
          "output_type": "stream",
          "name": "stdout",
          "text": [
            "05_remainder_division\n",
            "Enter the dividend:5\n",
            "Enter the divisor:3\n",
            "5 divided by 3 is 1 with a remainder of 2.\n"
          ]
        }
      ]
    },
    {
      "cell_type": "code",
      "source": [
        "import random\n",
        "\n",
        "print(\"06_rolldice\")\n",
        "\n",
        "def roll_dice():\n",
        "\n",
        "  die1:int = random.randint(1,6)\n",
        "  die2:int = random.randint(1,6)\n",
        "  total:int = int (die1+die2)\n",
        "  print(f\" First Die : {die1}\")\n",
        "  print(f\"Second Die : {die2}\")\n",
        "  print(f\"Total of two dies: {total}\")\n",
        "\n",
        "if __name__ == \"__main__\":\n",
        "  roll_dice()"
      ],
      "metadata": {
        "colab": {
          "base_uri": "https://localhost:8080/"
        },
        "id": "pU8YcCDEgVNE",
        "outputId": "177c0afd-d39f-4b1d-c3a4-4407b00179bc"
      },
      "execution_count": 20,
      "outputs": [
        {
          "output_type": "stream",
          "name": "stdout",
          "text": [
            "06_rolldice.\n",
            " First Die : 4\n",
            "Second Die : 4\n",
            "Total of two dies: 8\n"
          ]
        }
      ]
    },
    {
      "cell_type": "code",
      "source": [
        "\n",
        "\n",
        "print(\"06_seconds_in_year\")\n",
        "days_in_year:int = 365\n",
        "hours_in_day:int = 24\n",
        "minutes_in_hour:int = 60\n",
        "seconds_in_minute:int = 60\n",
        "\n",
        "def seconds():\n",
        "  print(f\"There are {days_in_year * hours_in_day * minutes_in_hour * seconds_in_minute} seconds in a year.\")\n",
        "\n",
        "if __name__ == \"__main__\":\n",
        "  seconds()"
      ],
      "metadata": {
        "colab": {
          "base_uri": "https://localhost:8080/"
        },
        "id": "9dXGjp9MipZe",
        "outputId": "ebf73243-cabb-48e0-be47-608fe4287b31"
      },
      "execution_count": 22,
      "outputs": [
        {
          "output_type": "stream",
          "name": "stdout",
          "text": [
            "06_seconds_in_year\n",
            "There are 31536000 seconds in a year.\n"
          ]
        }
      ]
    },
    {
      "cell_type": "code",
      "source": [
        "print(\"07_tiny_mad_lib\")\n",
        "\n",
        "def mad_lib():\n",
        "\n",
        "   adjective:str = input(\"Enter an adjective:\")\n",
        "   noun:str = input(\"Enter a noun:\")\n",
        "   verb:str = input(\"Enter a verb:\")\n",
        "\n",
        "   print(f\"my {adjective} {noun} {verb} !\")\n",
        "\n",
        "if __name__ == \"__main__\":\n",
        "  mad_lib()"
      ],
      "metadata": {
        "colab": {
          "base_uri": "https://localhost:8080/"
        },
        "id": "mqfH1pccjrnK",
        "outputId": "5883cf67-8e4c-42ba-ccc0-31cfc0ad7cdb"
      },
      "execution_count": 36,
      "outputs": [
        {
          "output_type": "stream",
          "name": "stdout",
          "text": [
            "07_tiny_mad_lib\n",
            "Enter an adjective:tiny\n",
            "Enter a noun:plant\n",
            "Enter a verb:fly\n",
            "my tiny plant fly !\n"
          ]
        }
      ]
    },
    {
      "cell_type": "markdown",
      "source": [],
      "metadata": {
        "id": "1tq88MABhAT8"
      }
    }
  ]
}
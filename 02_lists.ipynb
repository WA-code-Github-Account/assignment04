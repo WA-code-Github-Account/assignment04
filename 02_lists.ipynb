{
  "nbformat": 4,
  "nbformat_minor": 0,
  "metadata": {
    "colab": {
      "provenance": [],
      "authorship_tag": "ABX9TyN8wSuqKQ4MFAmkjFZwK2hP",
      "include_colab_link": true
    },
    "kernelspec": {
      "name": "python3",
      "display_name": "Python 3"
    },
    "language_info": {
      "name": "python"
    }
  },
  "cells": [
    {
      "cell_type": "markdown",
      "metadata": {
        "id": "view-in-github",
        "colab_type": "text"
      },
      "source": [
        "<a href=\"https://colab.research.google.com/github/WA-code-Github-Account/assignment04/blob/main/02_lists.ipynb\" target=\"_parent\"><img src=\"https://colab.research.google.com/assets/colab-badge.svg\" alt=\"Open In Colab\"/></a>"
      ]
    },
    {
      "cell_type": "code",
      "execution_count": 17,
      "metadata": {
        "colab": {
          "base_uri": "https://localhost:8080/"
        },
        "id": "rH30Ssb8u9O2",
        "outputId": "e5994912-32a3-4d89-ebf5-ca0ef93611f8"
      },
      "outputs": [
        {
          "output_type": "stream",
          "name": "stdout",
          "text": [
            "01_add_many_numbers\n",
            "5\n"
          ]
        }
      ],
      "source": [
        "print(\"01_add_many_numbers\")\n",
        "\n",
        "def add_number(numbers)-> int:\n",
        "  num:int = 0\n",
        "  for i in numbers :\n",
        "    num += 1\n",
        "  return num\n",
        "\n",
        "def main():\n",
        "  numbers:list[int] = [1,2,3,4,5]\n",
        "  sum = add_number(numbers)\n",
        "  print(sum)\n",
        "\n",
        "\n",
        "if __name__ == '__main__':\n",
        "    main()"
      ]
    },
    {
      "cell_type": "code",
      "source": [
        "from ast import Index\n",
        "print(\"02_double_list\")\n",
        "\n",
        "def main():\n",
        "  numbers:list[int] = [1,2,3,4,5]\n",
        "  for i in range(len(numbers)):\n",
        "    Index = numbers[i]\n",
        "    numbers[i] *= 2\n",
        "  print(numbers)\n",
        "\n",
        "if __name__ == '__main__':\n",
        "    main()"
      ],
      "metadata": {
        "colab": {
          "base_uri": "https://localhost:8080/"
        },
        "id": "1QTRaeN92idZ",
        "outputId": "b8bca958-2cfc-4037-b930-88362bb1a952"
      },
      "execution_count": 18,
      "outputs": [
        {
          "output_type": "stream",
          "name": "stdout",
          "text": [
            "02_double_list\n",
            "[2, 4, 6, 8, 10]\n"
          ]
        }
      ]
    },
    {
      "cell_type": "code",
      "source": [
        "print(\"04_flowing_with_data_structures\")\n",
        "\n",
        "def add_three_copies(lst,data):\n",
        "\n",
        "    for i in range(3):\n",
        "     lst.append(data)\n",
        "\n",
        "\n",
        "def main():\n",
        "\n",
        "  message = input(\"inter amessage to copy.\")\n",
        "  lst = []\n",
        "  print(\"Before list: \",lst)\n",
        "  add_three_copies(lst,message)\n",
        "  print(\"After list: \",lst)\n",
        "\n",
        "if __name__ == \"__main__\":\n",
        "\n",
        "   main()\n"
      ],
      "metadata": {
        "colab": {
          "base_uri": "https://localhost:8080/"
        },
        "id": "07AEQyLK4OVr",
        "outputId": "3b570919-0dc7-439d-e99a-df6305e332f2"
      },
      "execution_count": 20,
      "outputs": [
        {
          "output_type": "stream",
          "name": "stdout",
          "text": [
            "04_flowing_with_data_structures\n",
            "inter amessage to copy.GIAIC\n",
            "Before list:  []\n",
            "After list:  ['GIAIC', 'GIAIC', 'GIAIC']\n"
          ]
        }
      ]
    },
    {
      "cell_type": "code",
      "source": [
        "print(\"05_get_first_element\")\n",
        "\n",
        "def _get_first_element(lst):\n",
        "  print(lst[0])\n",
        "\n",
        "def get_lst():\n",
        "  lst = []\n",
        "  elem:str = input(\"Enter an element to add to the list: \")\n",
        "  while elem != \"\":\n",
        "    lst.append(elem)\n",
        "    elem = input(\"Enter an element to add to the list:\")\n",
        "  return lst\n",
        "\n",
        "\n",
        "def main():\n",
        "  lst = get_lst()\n",
        "  _get_first_element(lst)\n",
        "\n",
        "if __name__ == '__main__':\n",
        "    main()\n"
      ],
      "metadata": {
        "colab": {
          "base_uri": "https://localhost:8080/"
        },
        "id": "qE-NqU8m8fjr",
        "outputId": "ad3a75a3-84e9-4543-8cf7-eeb085a334c6"
      },
      "execution_count": 21,
      "outputs": [
        {
          "output_type": "stream",
          "name": "stdout",
          "text": [
            "05_get_first_element\n",
            "Enter an element to add to the list: a\n",
            "Enter an element to add to the list:b\n",
            "Enter an element to add to the list:c\n",
            "Enter an element to add to the list:d\n",
            "Enter an element to add to the list:e\n",
            "Enter an element to add to the list:f\n",
            "Enter an element to add to the list:\n",
            "a\n"
          ]
        }
      ]
    },
    {
      "cell_type": "code",
      "source": [],
      "metadata": {
        "id": "4l2jv_tPBxgP"
      },
      "execution_count": null,
      "outputs": []
    },
    {
      "cell_type": "code",
      "source": [
        "print(\"06_get_last_element\")\n",
        "\n",
        "def get_list_element(lst):\n",
        "  print(lst[-1])\n",
        "\n",
        "def get_lst():\n",
        "  lst = []\n",
        "  elem:str = input(\"Enter an element to add to the list.\")\n",
        "  while elem != \"\":\n",
        "    lst.append(elem)\n",
        "    elem = input(\"Enter an element to add to the list.\")\n",
        "  return lst\n",
        "\n",
        "def main():\n",
        "  lst = get_lst()\n",
        "  get_list_element(lst)\n",
        "\n",
        "if __name__ == '__main__':\n",
        "    main()"
      ],
      "metadata": {
        "colab": {
          "base_uri": "https://localhost:8080/"
        },
        "id": "q0fUK1NM_FDC",
        "outputId": "64c7fe7e-36ee-4fa8-84e1-1c9b1bff34ea"
      },
      "execution_count": 23,
      "outputs": [
        {
          "output_type": "stream",
          "name": "stdout",
          "text": [
            "06_get_last_element\n",
            "Enter an element to add to the list.a\n",
            "Enter an element to add to the list.b\n",
            "Enter an element to add to the list.c\n",
            "Enter an element to add to the list.d\n",
            "Enter an element to add to the list.e\n",
            "Enter an element to add to the list.f\n",
            "Enter an element to add to the list.\n",
            "f\n"
          ]
        }
      ]
    },
    {
      "cell_type": "code",
      "source": [
        "print(\"07_get_list\")\n",
        "\n",
        "def main():\n",
        "  lst = []\n",
        "  elem:str = input(\"Enter an element to add to the list.\")\n",
        "  while elem != \"\":\n",
        "    lst.append(elem)\n",
        "    elem = input(\"Enter an element to add to the list.\")\n",
        "  print(\" Here's the list: \",lst)\n",
        "\n",
        "if __name__ == '__main__':\n",
        "    main()\n",
        "\n",
        ""
      ],
      "metadata": {
        "colab": {
          "base_uri": "https://localhost:8080/"
        },
        "id": "IKzouE11B6dP",
        "outputId": "2072f2f9-0f53-49b1-a2f7-deac635475c0"
      },
      "execution_count": 25,
      "outputs": [
        {
          "output_type": "stream",
          "name": "stdout",
          "text": [
            "07_get_list\n",
            "Enter an element to add to the list.warda\n",
            "Enter an element to add to the list.Aziza\n",
            "Enter an element to add to the list.Afifa\n",
            "Enter an element to add to the list.siddiqui family\n",
            "Enter an element to add to the list.\n",
            " Here's the list:  ['warda', 'Aziza', 'Afifa', 'siddiqui family']\n"
          ]
        }
      ]
    },
    {
      "cell_type": "code",
      "source": [
        "print(\"08_shorten\")\n",
        "\n",
        "MAX_LENGTH:int = 3\n",
        "def shorten(lst):\n",
        "  while len(lst) >= MAX_LENGTH:\n",
        "    lest_element = lst.pop()\n",
        "    print(lest_element)\n",
        "\n",
        "def get_lst():\n",
        "  lst = []\n",
        "  element:str = input(\"Enter an element to add to the list.\")\n",
        "  while element != \"\":\n",
        "    lst.append(element)\n",
        "    element = input(\"Enter an element to add to the list.\")\n",
        "  return lst\n",
        "\n",
        "def main():\n",
        "  lst = get_lst()\n",
        "  shorten(lst)\n",
        "\n",
        "if __name__ == '__main__':\n",
        "    main()"
      ],
      "metadata": {
        "colab": {
          "base_uri": "https://localhost:8080/"
        },
        "id": "Vd78aYPPDbae",
        "outputId": "081959dc-8f3d-44a3-d1f7-fcfa59546374"
      },
      "execution_count": 31,
      "outputs": [
        {
          "output_type": "stream",
          "name": "stdout",
          "text": [
            "08_shorten\n",
            "Enter an element to add to the list.a\n",
            "Enter an element to add to the list.b\n",
            "Enter an element to add to the list.c\n",
            "Enter an element to add to the list.d\n",
            "Enter an element to add to the list.e\n",
            "Enter an element to add to the list.f\n",
            "Enter an element to add to the list.g\n",
            "Enter an element to add to the list.h\n",
            "Enter an element to add to the list.\n",
            "h\n",
            "g\n",
            "f\n",
            "e\n",
            "d\n",
            "c\n"
          ]
        }
      ]
    }
  ]
}
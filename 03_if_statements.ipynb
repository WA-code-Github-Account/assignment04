{
  "nbformat": 4,
  "nbformat_minor": 0,
  "metadata": {
    "colab": {
      "provenance": [],
      "authorship_tag": "ABX9TyMZqdPRp8g6zKn/jLpXIobZ",
      "include_colab_link": true
    },
    "kernelspec": {
      "name": "python3",
      "display_name": "Python 3"
    },
    "language_info": {
      "name": "python"
    }
  },
  "cells": [
    {
      "cell_type": "markdown",
      "metadata": {
        "id": "view-in-github",
        "colab_type": "text"
      },
      "source": [
        "<a href=\"https://colab.research.google.com/github/WA-code-Github-Account/assignment04/blob/main/03_if_statements.ipynb\" target=\"_parent\"><img src=\"https://colab.research.google.com/assets/colab-badge.svg\" alt=\"Open In Colab\"/></a>"
      ]
    },
    {
      "cell_type": "code",
      "execution_count": 9,
      "metadata": {
        "colab": {
          "base_uri": "https://localhost:8080/"
        },
        "id": "MAs0AfnmWQuV",
        "outputId": "05a56b9b-c869-406a-c898-997e07e09bbc"
      },
      "outputs": [
        {
          "output_type": "stream",
          "name": "stdout",
          "text": [
            "01_print_events\n",
            "0\n",
            "2\n",
            "4\n",
            "6\n",
            "8\n",
            "10\n",
            "12\n",
            "14\n",
            "16\n",
            "18\n",
            "20\n",
            "22\n",
            "24\n",
            "26\n",
            "28\n",
            "30\n",
            "32\n",
            "34\n",
            "36\n",
            "38\n"
          ]
        }
      ],
      "source": [
        "print(\"01_print_events\")\n",
        "\n",
        "def even():\n",
        " for i in range (20):\n",
        "  even = i * 2\n",
        "  print(even)\n",
        "if __name__ == '__main__':\n",
        "    even()"
      ]
    },
    {
      "cell_type": "code",
      "source": [
        "print(\"02_international_voting_age\")\n",
        "\n",
        "Peturksbouipo :int = 16\n",
        "Stanlau :int = 25\n",
        "Mayengua :int = 48\n",
        "age : int = int(input(\"What is your age? \"))\n",
        "\n",
        "\n",
        "def main():\n",
        "\n",
        "  if age >= Peturksbouipo:\n",
        "   print(f\"Your age is {age} You can vote in Peturksbouipo !\")\n",
        "  else:\n",
        "   print(f\"Your age is {age} You cannot vote in Peturksbouipo !\")\n",
        "\n",
        "if age >= Stanlau:\n",
        "  print(f\"Your age is {age}  You can vote in Stanlau!\")\n",
        "else:\n",
        "  print(f\"Your age is {age}  You cannot vote in Stanlau!\")\n",
        "\n",
        "\n",
        "if age >= Mayengua:\n",
        "   print(f\"Your age is {age} You can vote in Mayengua!\")\n",
        "else:\n",
        "\n",
        "  print(f\" Your age is {age} You cannot vote in Mayengua!\")\n",
        "\n",
        "if __name__ == '__main__':\n",
        "    main()"
      ],
      "metadata": {
        "colab": {
          "base_uri": "https://localhost:8080/"
        },
        "id": "6LucDKFjbxS8",
        "outputId": "d7bc3d4d-8038-4cbf-f00f-62ca5ce36564"
      },
      "execution_count": 23,
      "outputs": [
        {
          "output_type": "stream",
          "name": "stdout",
          "text": [
            "02_international_voting_age\n",
            "What is your age? 50\n",
            "Your age is 50  You can vote in Stanlau!\n",
            "Your age is 50 You can vote in Mayengua!\n",
            "Your age is 50 You can vote in Peturksbouipo !\n"
          ]
        }
      ]
    },
    {
      "cell_type": "code",
      "source": [
        "print(\"03_leap_year\")\n",
        "\n",
        "def leap_year():\n",
        "  year: int = int(input(\"Enter a year: \"))\n",
        "  if (year % 4 == 0 and year % 100 != 0) or (year % 400 == 0):\n",
        "    print(f\"{year} is a leap year.\")\n",
        "  else:\n",
        "    print(f\"{year} is not a leap year.\")\n",
        "\n",
        "if __name__ == '__main__':\n",
        "    leap_year()\n",
        "\n",
        "\n",
        "\n",
        "\n"
      ],
      "metadata": {
        "colab": {
          "base_uri": "https://localhost:8080/"
        },
        "id": "V2huFMlR0njo",
        "outputId": "90303424-6fe6-449f-8af8-2aa60ec51a6a"
      },
      "execution_count": 25,
      "outputs": [
        {
          "output_type": "stream",
          "name": "stdout",
          "text": [
            "03_leap_year\n",
            "Enter a year: 2024\n",
            "2024 is a leap year.\n"
          ]
        }
      ]
    },
    {
      "cell_type": "code",
      "source": [
        "print(\"04_tall_enough_to_ride\")\n",
        "\n",
        "min_hight:int=50\n",
        "\n",
        "\n",
        "def main():\n",
        "\n",
        "  user_input = input(\"how tall you are?\")\n",
        "  user = int(user_input)\n",
        "\n",
        "  if user >= min_hight:\n",
        "   print(\"You're tall enough to ride!\")\n",
        "  else:\n",
        "   print(\"You're not tall enough to ride, but maybe next year!\")\n",
        "\n",
        "if __name__ == '__main__':\n",
        "    main()\n",
        "\n",
        "\n",
        "\n"
      ],
      "metadata": {
        "colab": {
          "base_uri": "https://localhost:8080/"
        },
        "id": "itchd0PZBOFz",
        "outputId": "1d007103-f81a-4471-b470-9db98562662a"
      },
      "execution_count": 50,
      "outputs": [
        {
          "output_type": "stream",
          "name": "stdout",
          "text": [
            "04_tall_enough_to_ride\n",
            "how tall you are?49\n",
            "You're not tall enough to ride, but maybe next year!\n"
          ]
        }
      ]
    },
    {
      "cell_type": "code",
      "source": [
        "print(\"05_random_numbers\")\n",
        "\n",
        "\n",
        "import random\n",
        "\n",
        "N_NUMBERS : int = 10\n",
        "MIN_VALUE : int = 1\n",
        "MAX_VALUE : int = 100\n",
        "\n",
        "def main():\n",
        "\n",
        "    for i in range(N_NUMBERS):\n",
        "        print(random.randint(MIN_VALUE, MAX_VALUE))\n",
        "\n",
        "\n",
        "if __name__ == '__main__':\n",
        "    main()"
      ],
      "metadata": {
        "colab": {
          "base_uri": "https://localhost:8080/"
        },
        "id": "IbQ4hsV-If-T",
        "outputId": "abdb4b81-6081-4d38-9410-a394760be08c"
      },
      "execution_count": 52,
      "outputs": [
        {
          "output_type": "stream",
          "name": "stdout",
          "text": [
            "05_random_numbers\n",
            "25\n",
            "15\n",
            "99\n",
            "46\n",
            "95\n",
            "41\n",
            "15\n",
            "81\n",
            "54\n",
            "1\n"
          ]
        }
      ]
    }
  ]
}
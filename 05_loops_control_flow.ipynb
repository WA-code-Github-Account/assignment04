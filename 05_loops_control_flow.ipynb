{
  "nbformat": 4,
  "nbformat_minor": 0,
  "metadata": {
    "colab": {
      "provenance": [],
      "authorship_tag": "ABX9TyN1F3p5bFyasGYIepV0+v3F",
      "include_colab_link": true
    },
    "kernelspec": {
      "name": "python3",
      "display_name": "Python 3"
    },
    "language_info": {
      "name": "python"
    }
  },
  "cells": [
    {
      "cell_type": "markdown",
      "metadata": {
        "id": "view-in-github",
        "colab_type": "text"
      },
      "source": [
        "<a href=\"https://colab.research.google.com/github/WA-code-Github-Account/assignment04/blob/main/05_loops_control_flow.ipynb\" target=\"_parent\"><img src=\"https://colab.research.google.com/assets/colab-badge.svg\" alt=\"Open In Colab\"/></a>"
      ]
    },
    {
      "cell_type": "code",
      "execution_count": null,
      "metadata": {
        "colab": {
          "base_uri": "https://localhost:8080/"
        },
        "id": "3-XFkZQEBQFC",
        "outputId": "c0d8664a-8728-43eb-dcd5-1fbc4601a0f8"
      },
      "outputs": [
        {
          "output_type": "stream",
          "name": "stdout",
          "text": [
            "00_guess_my_number\n",
            "🔢 I am thinking of a number between 0 and 99...\n",
            "Enter a guess: 88\n",
            "📉 Your guess is too high\n",
            "\n",
            "Enter a guess: 1\n",
            "📈 Your guess is too low\n",
            "\n",
            "Enter a guess: 99\n",
            "📉 Your guess is too high\n",
            "\n",
            "Enter a guess: 25\n",
            "📉 Your guess is too high\n",
            "\n",
            "Enter a guess: 48\n",
            "📉 Your guess is too high\n",
            "\n",
            "Enter a guess: 99\n",
            "📉 Your guess is too high\n",
            "\n",
            "Enter a guess: 10\n",
            "📈 Your guess is too low\n",
            "\n",
            "Enter a guess: 20\n",
            "📉 Your guess is too high\n",
            "\n",
            "Enter a guess: 50\n",
            "📉 Your guess is too high\n",
            "\n",
            "Enter a guess: 12\n",
            "📉 Your guess is too high\n",
            "\n",
            "Enter a guess: 13\n",
            "📉 Your guess is too high\n",
            "\n",
            "Enter a guess: 14\n",
            "📉 Your guess is too high\n",
            "\n",
            "Enter a guess: 16\n",
            "📉 Your guess is too high\n",
            "\n",
            "Enter a guess: 15\n",
            "📉 Your guess is too high\n",
            "\n",
            "Enter a guess: 200\n",
            "📉 Your guess is too high\n",
            "\n",
            "Enter a guess: 98\n",
            "📉 Your guess is too high\n",
            "\n",
            "Enter a guess: 97\n",
            "📉 Your guess is too high\n",
            "\n",
            "Enter a guess: 96\n",
            "📉 Your guess is too high\n",
            "\n",
            "Enter a guess: 95\n",
            "📉 Your guess is too high\n",
            "\n",
            "Enter a guess: 18\n",
            "📉 Your guess is too high\n",
            "\n",
            "Enter a guess: \n",
            "❌ Please enter a valid number.\n"
          ]
        }
      ],
      "source": [
        "print(\"00_guess_my_number\")\n",
        "import random\n",
        "\n",
        "def guess_my_number():\n",
        "    secret_number = random.randint(0, 99)\n",
        "    print(\"🔢 I am thinking of a number between 0 and 99...\")\n",
        "\n",
        "    while True:\n",
        "        try:\n",
        "            guess = int(input(\"Enter a guess: \"))\n",
        "        except ValueError:\n",
        "            print(\"❌ Please enter a valid number.\")\n",
        "            continue\n",
        "\n",
        "        if guess > secret_number:\n",
        "            print(\"📉 Your guess is too high\\n\")\n",
        "        elif guess < secret_number:\n",
        "            print(\"📈 Your guess is too low\\n\")\n",
        "        else:\n",
        "            print(f\"🎉 Congrats! The number was: {secret_number}\")\n",
        "            break\n",
        "\n",
        "\n",
        "if __name__ == '__main__':\n",
        "    guess_my_number()\n"
      ]
    },
    {
      "cell_type": "code",
      "source": [
        "print(\"02_print_events\")\n",
        "\n",
        "def print_even_numbers():\n",
        "    count = 0\n",
        "    number = 0\n",
        "\n",
        "    while count < 20:\n",
        "        print(number, end=' ')\n",
        "        number += 2\n",
        "        count += 1\n",
        "\n",
        "def main():\n",
        "    print_even_numbers()\n",
        "\n",
        "if __name__ == \"__main__\":\n",
        "    main()\n"
      ],
      "metadata": {
        "id": "SSUYurNdDcl0",
        "colab": {
          "base_uri": "https://localhost:8080/"
        },
        "outputId": "5e62a097-50a5-43c4-ff0c-d0c50b20aab5"
      },
      "execution_count": 1,
      "outputs": [
        {
          "output_type": "stream",
          "name": "stdout",
          "text": [
            "02_print_events\n",
            "0 2 4 6 8 10 12 14 16 18 20 22 24 26 28 30 32 34 36 38 "
          ]
        }
      ]
    },
    {
      "cell_type": "code",
      "source": [
        "print(\"03_wholesome_machine\")\n",
        "\n",
        "def main():\n",
        "    affirmation = \"I am capable of doing anything I put my mind to.\"\n",
        "    print(f\"🌈 Please type the following affirmation: \\\"{affirmation}\\\"\")\n",
        "\n",
        "    while True:\n",
        "        user_input = input(\"📝 Your input: \")\n",
        "        if user_input == affirmation:\n",
        "            print(\"🎉 That's right! You are amazing! 😊\")\n",
        "            break\n",
        "        else:\n",
        "            print(\"❌ Hmmm... that was not the affirmation.\")\n",
        "            print(f\"💬 Try again: \\\"{affirmation}\\\"\")\n",
        "\n",
        "if __name__ == '__main__':\n",
        "    main()\n"
      ],
      "metadata": {
        "colab": {
          "base_uri": "https://localhost:8080/"
        },
        "id": "1YMpV7Szrgyj",
        "outputId": "411a7a92-72bc-44e2-8d5c-138e2d70d683"
      },
      "execution_count": 4,
      "outputs": [
        {
          "output_type": "stream",
          "name": "stdout",
          "text": [
            "03_wholesome_machine\n",
            "🌈 Please type the following affirmation: \"I am capable of doing anything I put my mind to.\"\n",
            "📝 Your input:  I am strong\n",
            "❌ Hmmm... that was not the affirmation.\n",
            "💬 Try again: \"I am capable of doing anything I put my mind to.\"\n",
            "📝 Your input: I am capable of doing anything I put my mind to.\n",
            "🎉 That's right! You are amazing! 😊\n"
          ]
        }
      ]
    },
    {
      "cell_type": "code",
      "source": [
        "print(\"04_liftoff\")\n",
        "\n",
        "def main():\n",
        "    print(\"🛰️ Initiating Launch Countdown...\")\n",
        "    for i in range(10):\n",
        "        print(f\"⏳ {10 - i}\", end=' ')\n",
        "    print(\"🚀 Liftoff!\")\n",
        "\n",
        "if __name__ == '__main__':\n",
        "    main()\n",
        "\n"
      ],
      "metadata": {
        "colab": {
          "base_uri": "https://localhost:8080/"
        },
        "id": "vkuxpnSVwcdq",
        "outputId": "eafd20fc-8498-485f-bc5d-134ab6ee0dff"
      },
      "execution_count": 5,
      "outputs": [
        {
          "output_type": "stream",
          "name": "stdout",
          "text": [
            "04_liftoff\n",
            "🛰️ Initiating Launch Countdown...\n",
            "⏳ 10 ⏳ 9 ⏳ 8 ⏳ 7 ⏳ 6 ⏳ 5 ⏳ 4 ⏳ 3 ⏳ 2 ⏳ 1 🚀 Liftoff!\n"
          ]
        }
      ]
    },
    {
      "cell_type": "code",
      "source": [
        "print(\"05_double_it\")\n",
        "\n",
        "def main():\n",
        "    curr_value = int(input(\"🔢 Enter a number: \"))\n",
        "\n",
        "    print(\"Doubling the value...\")\n",
        "    while curr_value < 100:\n",
        "        curr_value = curr_value * 2\n",
        "        print(f\"💡 {curr_value}\", end=' ')\n",
        "\n",
        "if __name__ == '__main__':\n",
        "    main()\n"
      ],
      "metadata": {
        "colab": {
          "base_uri": "https://localhost:8080/"
        },
        "id": "V1zpj-F0xrwf",
        "outputId": "fad650b5-2111-4a5f-c58b-47a48a8cede3"
      },
      "execution_count": 7,
      "outputs": [
        {
          "output_type": "stream",
          "name": "stdout",
          "text": [
            "05_double_it\n",
            "🔢 Enter a number: 5\n",
            "Doubling the value...\n",
            "💡 10 💡 20 💡 40 💡 80 💡 160 "
          ]
        }
      ]
    }
  ]
}
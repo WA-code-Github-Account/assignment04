{
  "nbformat": 4,
  "nbformat_minor": 0,
  "metadata": {
    "colab": {
      "provenance": [],
      "authorship_tag": "ABX9TyNOgYJJkb5Keyml08Zj/BEG",
      "include_colab_link": true
    },
    "kernelspec": {
      "name": "python3",
      "display_name": "Python 3"
    },
    "language_info": {
      "name": "python"
    }
  },
  "cells": [
    {
      "cell_type": "markdown",
      "metadata": {
        "id": "view-in-github",
        "colab_type": "text"
      },
      "source": [
        "<a href=\"https://colab.research.google.com/github/WA-code-Github-Account/assignment04/blob/main/online_class_projects_01_basics.ipynb\" target=\"_parent\"><img src=\"https://colab.research.google.com/assets/colab-badge.svg\" alt=\"Open In Colab\"/></a>"
      ]
    },
    {
      "cell_type": "code",
      "execution_count": null,
      "metadata": {
        "colab": {
          "base_uri": "https://localhost:8080/"
        },
        "id": "zUKxRBHgCukI",
        "outputId": "069d8236-0f8f-4a00-bed4-e7c0f7eca818"
      },
      "outputs": [
        {
          "output_type": "stream",
          "name": "stdout",
          "text": [
            "00_joke_bot\n",
            "What do you want? joke\n",
            " Sophia is heading out to the grocery store. Mother tells her: get a liter of milk, and if they have eggs, get 12. Sophia returns with 13 liters of milk.Mother asks why and Sophia replies: 'because they had eggs'\n"
          ]
        }
      ],
      "source": [
        "print(\"00_joke_bot\")\n",
        "\n",
        "# Constants\n",
        "PROMPT = \"What do you want? \"\n",
        "JOKE = (\" Sophia is heading out to the grocery store. \"\n",
        "        \"Mother tells her: get a liter of milk, and if they have eggs, get 12. \"\n",
        "        \"Sophia returns with 13 liters of milk.Mother asks why and Sophia replies: \"\n",
        "        \"'because they had eggs'\")\n",
        "SORRY = \"Sorry I only tell jokes\"\n",
        "\n",
        "# Function\n",
        "def main():\n",
        "    user_input = input(PROMPT)\n",
        "    if user_input.lower() == \"joke\":\n",
        "        print(JOKE)\n",
        "    else:\n",
        "        print(SORRY)\n",
        "\n",
        "# Run the function\n",
        "if __name__ == \"__main__\":\n",
        "    main()\n",
        "\n"
      ]
    },
    {
      "cell_type": "code",
      "source": [
        "print(\"01_double_it\")\n",
        "\n",
        "def main():\n",
        "    curr_value = int(input(\"🔢 Enter a number: \"))\n",
        "\n",
        "    print(\"Doubling the value...\")\n",
        "    while curr_value < 100:\n",
        "        curr_value = curr_value * 2\n",
        "        print(f\"💡 {curr_value}\", end=' ')\n",
        "\n",
        "if __name__ == '__main__':\n",
        "    main()\n"
      ],
      "metadata": {
        "colab": {
          "base_uri": "https://localhost:8080/"
        },
        "id": "7rRmw_WrIK90",
        "outputId": "e66d7f7d-6200-4661-ce02-f863a8dd3f89"
      },
      "execution_count": null,
      "outputs": [
        {
          "output_type": "stream",
          "name": "stdout",
          "text": [
            "01_double_it\n",
            "🔢 Enter a number: 9\n",
            "Doubling the value...\n",
            "💡 18 💡 36 💡 72 💡 144 "
          ]
        }
      ]
    },
    {
      "cell_type": "code",
      "source": [
        "print(\"02_liftoff\")\n",
        "\n",
        "def main():\n",
        "    print(\"🛰️ Initiating Launch Countdown...\")\n",
        "    for i in range(10):\n",
        "        print(f\"⏳ {10 - i}\", end=' ')\n",
        "    print(\"🚀 Liftoff!\")\n",
        "\n",
        "if __name__ == '__main__':\n",
        "    main()"
      ],
      "metadata": {
        "colab": {
          "base_uri": "https://localhost:8080/"
        },
        "id": "ZNDkrWGeJDx2",
        "outputId": "a2eef89f-4500-4351-d30e-767321981703"
      },
      "execution_count": null,
      "outputs": [
        {
          "output_type": "stream",
          "name": "stdout",
          "text": [
            "02_liftoff\n",
            "🛰️ Initiating Launch Countdown...\n",
            "⏳ 10 ⏳ 9 ⏳ 8 ⏳ 7 ⏳ 6 ⏳ 5 ⏳ 4 ⏳ 3 ⏳ 2 ⏳ 1 🚀 Liftoff!\n"
          ]
        }
      ]
    },
    {
      "cell_type": "code",
      "source": [
        "print(\"03_guess_my_number\")\n",
        "import random\n",
        "\n",
        "def guess_my_number():\n",
        "    secret_number = random.randint(0, 99)\n",
        "    print(\"🔢 I am thinking of a number between 0 and 99...\")\n",
        "\n",
        "    while True:\n",
        "        try:\n",
        "            guess = int(input(\"Enter a guess: \"))\n",
        "        except ValueError:\n",
        "            print(\"❌ Please enter a valid number.\")\n",
        "            continue\n",
        "\n",
        "        if guess > secret_number:\n",
        "            print(\"📉 Your guess is too high\\n\")\n",
        "        elif guess < secret_number:\n",
        "            print(\"📈 Your guess is too low\\n\")\n",
        "        else:\n",
        "            print(f\"🎉 Congrats! The number was: {secret_number}\")\n",
        "            break\n",
        "\n",
        "\n",
        "if __name__ == '__main__':\n",
        "    guess_my_number()"
      ],
      "metadata": {
        "colab": {
          "base_uri": "https://localhost:8080/"
        },
        "id": "b4e3eNw2JaAN",
        "outputId": "aafa387c-b5df-4a7f-d745-797c28a97b33"
      },
      "execution_count": null,
      "outputs": [
        {
          "output_type": "stream",
          "name": "stdout",
          "text": [
            "03_guess_my_number\n",
            "🔢 I am thinking of a number between 0 and 99...\n",
            "Enter a guess: 50\n",
            "📈 Your guess is too low\n",
            "\n",
            "Enter a guess: 70\n",
            "📉 Your guess is too high\n",
            "\n",
            "Enter a guess: 99\n",
            "📉 Your guess is too high\n",
            "\n",
            "Enter a guess: 1\n",
            "📈 Your guess is too low\n",
            "\n",
            "Enter a guess: \n",
            "❌ Please enter a valid number.\n"
          ]
        }
      ]
    },
    {
      "cell_type": "code",
      "source": [
        "print(\"04_random_numbers\")\n",
        "\n",
        "import random\n",
        "\n",
        "\n",
        "N_NUMBERS = 10\n",
        "MIN_VALUE = 1\n",
        "MAX_VALUE = 100\n",
        "\n",
        "def main():\n",
        "\n",
        "    for i in range(N_NUMBERS):\n",
        "        print(random.randint(MIN_VALUE, MAX_VALUE))\n",
        "\n",
        "\n",
        "if __name__ == '__main__':\n",
        "    main()\n"
      ],
      "metadata": {
        "id": "5LylEmXMiX0A",
        "colab": {
          "base_uri": "https://localhost:8080/"
        },
        "outputId": "f082127f-91ce-4972-9665-9172f3f0b5bd"
      },
      "execution_count": 1,
      "outputs": [
        {
          "output_type": "stream",
          "name": "stdout",
          "text": [
            "04_random_numbers\n",
            "78\n",
            "76\n",
            "88\n",
            "86\n",
            "80\n",
            "18\n",
            "9\n",
            "14\n",
            "93\n",
            "11\n"
          ]
        }
      ]
    }
  ]
}